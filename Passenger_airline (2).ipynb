{
 "cells": [
  {
   "cell_type": "markdown",
   "id": "181a04a0-3b06-4582-aa39-042d827ecba3",
   "metadata": {},
   "source": [
    "### Importing the Packages"
   ]
  },
  {
   "cell_type": "code",
   "execution_count": 1,
   "id": "4c4e737d-0a45-41ba-8721-5ec1993222b0",
   "metadata": {},
   "outputs": [],
   "source": [
    "import pandas as pd\n",
    "import numpy as np\n",
    "import matplotlib.pyplot as plt\n",
    "import statsmodels.tsa.stattools as sts\n",
    "import statsmodels.graphics.tsaplots as sgt\n",
    "from statsmodels.tsa.arima.model import ARIMA\n",
    "from statsmodels.tsa.holtwinters import ExponentialSmoothing\n",
    "from sklearn.metrics import mean_squared_error\n",
    "import statsmodels.api as sms\n",
    "from scipy.stats.distributions import chi2\n",
    "from math import sqrt\n",
    "import seaborn as sns\n",
    "sns.set()"
   ]
  },
  {
   "cell_type": "code",
   "execution_count": 5,
   "id": "3105f039-cde9-4259-b034-d6a2acd7d650",
   "metadata": {},
   "outputs": [
    {
     "data": {
      "text/html": [
       "<div>\n",
       "<style scoped>\n",
       "    .dataframe tbody tr th:only-of-type {\n",
       "        vertical-align: middle;\n",
       "    }\n",
       "\n",
       "    .dataframe tbody tr th {\n",
       "        vertical-align: top;\n",
       "    }\n",
       "\n",
       "    .dataframe thead th {\n",
       "        text-align: right;\n",
       "    }\n",
       "</style>\n",
       "<table border=\"1\" class=\"dataframe\">\n",
       "  <thead>\n",
       "    <tr style=\"text-align: right;\">\n",
       "      <th></th>\n",
       "      <th>Month</th>\n",
       "      <th>Passengers</th>\n",
       "    </tr>\n",
       "  </thead>\n",
       "  <tbody>\n",
       "    <tr>\n",
       "      <th>0</th>\n",
       "      <td>1949-01</td>\n",
       "      <td>112</td>\n",
       "    </tr>\n",
       "    <tr>\n",
       "      <th>1</th>\n",
       "      <td>1949-02</td>\n",
       "      <td>118</td>\n",
       "    </tr>\n",
       "    <tr>\n",
       "      <th>2</th>\n",
       "      <td>1949-03</td>\n",
       "      <td>132</td>\n",
       "    </tr>\n",
       "    <tr>\n",
       "      <th>3</th>\n",
       "      <td>1949-04</td>\n",
       "      <td>129</td>\n",
       "    </tr>\n",
       "    <tr>\n",
       "      <th>4</th>\n",
       "      <td>1949-05</td>\n",
       "      <td>121</td>\n",
       "    </tr>\n",
       "  </tbody>\n",
       "</table>\n",
       "</div>"
      ],
      "text/plain": [
       "     Month  Passengers\n",
       "0  1949-01         112\n",
       "1  1949-02         118\n",
       "2  1949-03         132\n",
       "3  1949-04         129\n",
       "4  1949-05         121"
      ]
     },
     "execution_count": 5,
     "metadata": {},
     "output_type": "execute_result"
    }
   ],
   "source": [
    "df_airline = pd.read_csv('airline-passengers(1).csv')\n",
    "df_airline.head()"
   ]
  },
  {
   "cell_type": "code",
   "execution_count": 6,
   "id": "26f365ad-c81e-4056-8ec3-8a1915cb8bb7",
   "metadata": {},
   "outputs": [
    {
     "data": {
      "text/plain": [
       "Month         0\n",
       "Passengers    0\n",
       "dtype: int64"
      ]
     },
     "execution_count": 6,
     "metadata": {},
     "output_type": "execute_result"
    }
   ],
   "source": [
    "df_airline.isnull().sum()"
   ]
  },
  {
   "cell_type": "code",
   "execution_count": 7,
   "id": "2a1f9242-dd90-47d3-9fac-99ca2b879859",
   "metadata": {},
   "outputs": [
    {
     "name": "stdout",
     "output_type": "stream",
     "text": [
      "<class 'pandas.core.frame.DataFrame'>\n",
      "RangeIndex: 144 entries, 0 to 143\n",
      "Data columns (total 2 columns):\n",
      " #   Column      Non-Null Count  Dtype \n",
      "---  ------      --------------  ----- \n",
      " 0   Month       144 non-null    object\n",
      " 1   Passengers  144 non-null    int64 \n",
      "dtypes: int64(1), object(1)\n",
      "memory usage: 2.4+ KB\n"
     ]
    }
   ],
   "source": [
    "df_airline.info()"
   ]
  },
  {
   "cell_type": "code",
   "execution_count": 8,
   "id": "edf8ed6a-fa81-463b-8c21-25e42f124af4",
   "metadata": {},
   "outputs": [],
   "source": [
    "df_airline['Month'] = pd.to_datetime(df_airline['Month'])"
   ]
  },
  {
   "cell_type": "code",
   "execution_count": 9,
   "id": "9f8151b0-ab49-433e-8ecb-8ef3459ee707",
   "metadata": {},
   "outputs": [
    {
     "name": "stdout",
     "output_type": "stream",
     "text": [
      "<class 'pandas.core.frame.DataFrame'>\n",
      "RangeIndex: 144 entries, 0 to 143\n",
      "Data columns (total 2 columns):\n",
      " #   Column      Non-Null Count  Dtype         \n",
      "---  ------      --------------  -----         \n",
      " 0   Month       144 non-null    datetime64[ns]\n",
      " 1   Passengers  144 non-null    int64         \n",
      "dtypes: datetime64[ns](1), int64(1)\n",
      "memory usage: 2.4 KB\n"
     ]
    }
   ],
   "source": [
    "df_airline.info()"
   ]
  },
  {
   "cell_type": "code",
   "execution_count": 10,
   "id": "ac59dfa6-807a-4c4c-9070-597c328efb07",
   "metadata": {},
   "outputs": [],
   "source": [
    "df_airline.set_index('Month', inplace=True)"
   ]
  },
  {
   "cell_type": "code",
   "execution_count": 11,
   "id": "8be4ea64-f4ee-49ba-b7c3-d4dffa5b6a5f",
   "metadata": {},
   "outputs": [
    {
     "data": {
      "text/html": [
       "<div>\n",
       "<style scoped>\n",
       "    .dataframe tbody tr th:only-of-type {\n",
       "        vertical-align: middle;\n",
       "    }\n",
       "\n",
       "    .dataframe tbody tr th {\n",
       "        vertical-align: top;\n",
       "    }\n",
       "\n",
       "    .dataframe thead th {\n",
       "        text-align: right;\n",
       "    }\n",
       "</style>\n",
       "<table border=\"1\" class=\"dataframe\">\n",
       "  <thead>\n",
       "    <tr style=\"text-align: right;\">\n",
       "      <th></th>\n",
       "      <th>Passengers</th>\n",
       "    </tr>\n",
       "    <tr>\n",
       "      <th>Month</th>\n",
       "      <th></th>\n",
       "    </tr>\n",
       "  </thead>\n",
       "  <tbody>\n",
       "    <tr>\n",
       "      <th>1949-01-01</th>\n",
       "      <td>112</td>\n",
       "    </tr>\n",
       "    <tr>\n",
       "      <th>1949-02-01</th>\n",
       "      <td>118</td>\n",
       "    </tr>\n",
       "    <tr>\n",
       "      <th>1949-03-01</th>\n",
       "      <td>132</td>\n",
       "    </tr>\n",
       "    <tr>\n",
       "      <th>1949-04-01</th>\n",
       "      <td>129</td>\n",
       "    </tr>\n",
       "    <tr>\n",
       "      <th>1949-05-01</th>\n",
       "      <td>121</td>\n",
       "    </tr>\n",
       "  </tbody>\n",
       "</table>\n",
       "</div>"
      ],
      "text/plain": [
       "            Passengers\n",
       "Month                 \n",
       "1949-01-01         112\n",
       "1949-02-01         118\n",
       "1949-03-01         132\n",
       "1949-04-01         129\n",
       "1949-05-01         121"
      ]
     },
     "execution_count": 11,
     "metadata": {},
     "output_type": "execute_result"
    }
   ],
   "source": [
    "df_airline.head()"
   ]
  },
  {
   "cell_type": "code",
   "execution_count": 12,
   "id": "c6f2e896-5862-4ea7-84b7-d6cc4450107f",
   "metadata": {},
   "outputs": [
    {
     "data": {
      "image/png": "[encoded data removed]",
      "text/plain": [
       "<Figure size 640x480 with 1 Axes>"
      ]
     },
     "metadata": {},
     "output_type": "display_data"
    }
   ],
   "source": [
    "df_airline.plot()\n",
    "plt.show()\n",
    "# Seasonal and Trend\n",
    "#if seasonal data , it is not stationary\n",
    "# ADFulller test"
   ]
  },
  {
   "cell_type": "code",
   "execution_count": 13,
   "id": "5b7194e1-2fe9-49a5-87d9-4aa319be36aa",
   "metadata": {},
   "outputs": [
    {
     "data": {
      "text/plain": [
       "(0.8153688792060597,\n",
       " 0.9918802434376411,\n",
       " 13,\n",
       " 130,\n",
       " {'1%': -3.4816817173418295,\n",
       "  '5%': -2.8840418343195267,\n",
       "  '10%': -2.578770059171598},\n",
       " 996.692930839019)"
      ]
     },
     "execution_count": 13,
     "metadata": {},
     "output_type": "execute_result"
    }
   ],
   "source": [
    "sts.adfuller(df_airline.Passengers) # our data is not stationary since p-value=0.992 > 0.05 "
   ]
  },
  {
   "cell_type": "markdown",
   "id": "ef1cce1e-ea98-4754-91e9-0cd6b7f5d887",
   "metadata": {},
   "source": [
    "### Differencing"
   ]
  },
  {
   "cell_type": "code",
   "execution_count": 14,
   "id": "bc4d4ca8-c76c-455d-8938-7d32d4b27542",
   "metadata": {},
   "outputs": [],
   "source": [
    "# Use technique of differencing\n",
    "df_airline['Passengers_First_Difference'] = df_airline['Passengers'] -df_airline['Passengers'].shift(1)"
   ]
  },
  {
   "cell_type": "code",
   "execution_count": 15,
   "id": "a67f2124-3b08-45a0-bc79-779479b76d35",
   "metadata": {
    "scrolled": true
   },
   "outputs": [],
   "source": [
    "#df_airline['Passengers_First_Difference'].head(2)"
   ]
  },
  {
   "cell_type": "code",
   "execution_count": 16,
   "id": "bdb95b51-d8ae-40d8-b443-c7a90a2e8f4b",
   "metadata": {},
   "outputs": [
    {
     "data": {
      "text/plain": [
       "(-2.829266824169992,\n",
       " 0.0542132902838265,\n",
       " 12,\n",
       " 130,\n",
       " {'1%': -3.4816817173418295,\n",
       "  '5%': -2.8840418343195267,\n",
       "  '10%': -2.578770059171598},\n",
       " 988.5069317854085)"
      ]
     },
     "execution_count": 16,
     "metadata": {},
     "output_type": "execute_result"
    }
   ],
   "source": [
    "sts.adfuller(df_airline['Passengers_First_Difference'].dropna()) # p-valu=0.054 > 0.05 Thus the data is not stationary"
   ]
  },
  {
   "cell_type": "code",
   "execution_count": 17,
   "id": "dd71b537-ae0d-4111-a0e7-18bba00e8c81",
   "metadata": {},
   "outputs": [],
   "source": [
    "#df_airline['returns'] = df_airline.Passengers.pct_change(1)*100"
   ]
  },
  {
   "cell_type": "code",
   "execution_count": 18,
   "id": "43b21c7a-4720-4366-8cd5-09396ee8f298",
   "metadata": {},
   "outputs": [],
   "source": [
    "#sts.adfuller(df_airline['returns'].dropna())"
   ]
  },
  {
   "cell_type": "code",
   "execution_count": 19,
   "id": "8593b054-fe8a-4ef9-953b-23a25849016a",
   "metadata": {},
   "outputs": [],
   "source": [
    "# Take second differencing\n",
    "df_airline['Passengers_Second_Difference'] = df_airline['Passengers_First_Difference']- df_airline['Passengers_First_Difference'].shift(1)"
   ]
  },
  {
   "cell_type": "code",
   "execution_count": 20,
   "id": "dbf80bc3-f0f5-4336-976d-399ddef94048",
   "metadata": {
    "scrolled": true
   },
   "outputs": [
    {
     "data": {
      "text/plain": [
       "(-16.384231542468527,\n",
       " 2.732891850014085e-29,\n",
       " 11,\n",
       " 130,\n",
       " {'1%': -3.4816817173418295,\n",
       "  '5%': -2.8840418343195267,\n",
       "  '10%': -2.578770059171598},\n",
       " 988.60204172756)"
      ]
     },
     "execution_count": 20,
     "metadata": {},
     "output_type": "execute_result"
    }
   ],
   "source": [
    "sts.adfuller(df_airline['Passengers_Second_Difference'].dropna())\n",
    "# p-value is almost zero, so data is stationary now"
   ]
  },
  {
   "cell_type": "code",
   "execution_count": 21,
   "id": "d929502f-a77c-4e79-adc4-e955a31ccea3",
   "metadata": {},
   "outputs": [],
   "source": [
    "# For seasonal data we used 12 month difference\n",
    "df_airline['Passengers_12_Difference'] = df_airline['Passengers']-df_airline['Passengers'].shift(12) # doing difference for entire year"
   ]
  },
  {
   "cell_type": "code",
   "execution_count": 22,
   "id": "a130c2d6-d366-4583-94f6-af4fbd6bd933",
   "metadata": {
    "scrolled": true
   },
   "outputs": [
    {
     "data": {
      "text/plain": [
       "(-3.3830207264924805,\n",
       " 0.011551493085514982,\n",
       " 1,\n",
       " 130,\n",
       " {'1%': -3.4816817173418295,\n",
       "  '5%': -2.8840418343195267,\n",
       "  '10%': -2.578770059171598},\n",
       " 919.527129208137)"
      ]
     },
     "execution_count": 22,
     "metadata": {},
     "output_type": "execute_result"
    }
   ],
   "source": [
    "# check the stationarity of df_airline['Passengers_12_Difference']\n",
    "sts.adfuller(df_airline['Passengers_12_Difference'].dropna())\n",
    "# p-value=0.01 <0.05 so data is stationary"
   ]
  },
  {
   "cell_type": "code",
   "execution_count": 23,
   "id": "702675ad",
   "metadata": {},
   "outputs": [
    {
     "data": {
      "text/html": [
       "<div>\n",
       "<style scoped>\n",
       "    .dataframe tbody tr th:only-of-type {\n",
       "        vertical-align: middle;\n",
       "    }\n",
       "\n",
       "    .dataframe tbody tr th {\n",
       "        vertical-align: top;\n",
       "    }\n",
       "\n",
       "    .dataframe thead th {\n",
       "        text-align: right;\n",
       "    }\n",
       "</style>\n",
       "<table border=\"1\" class=\"dataframe\">\n",
       "  <thead>\n",
       "    <tr style=\"text-align: right;\">\n",
       "      <th></th>\n",
       "      <th>Passengers</th>\n",
       "      <th>Passengers_First_Difference</th>\n",
       "      <th>Passengers_Second_Difference</th>\n",
       "      <th>Passengers_12_Difference</th>\n",
       "    </tr>\n",
       "    <tr>\n",
       "      <th>Month</th>\n",
       "      <th></th>\n",
       "      <th></th>\n",
       "      <th></th>\n",
       "      <th></th>\n",
       "    </tr>\n",
       "  </thead>\n",
       "  <tbody>\n",
       "    <tr>\n",
       "      <th>1949-01-01</th>\n",
       "      <td>112</td>\n",
       "      <td>NaN</td>\n",
       "      <td>NaN</td>\n",
       "      <td>NaN</td>\n",
       "    </tr>\n",
       "    <tr>\n",
       "      <th>1949-02-01</th>\n",
       "      <td>118</td>\n",
       "      <td>6.0</td>\n",
       "      <td>NaN</td>\n",
       "      <td>NaN</td>\n",
       "    </tr>\n",
       "    <tr>\n",
       "      <th>1949-03-01</th>\n",
       "      <td>132</td>\n",
       "      <td>14.0</td>\n",
       "      <td>8.0</td>\n",
       "      <td>NaN</td>\n",
       "    </tr>\n",
       "    <tr>\n",
       "      <th>1949-04-01</th>\n",
       "      <td>129</td>\n",
       "      <td>-3.0</td>\n",
       "      <td>-17.0</td>\n",
       "      <td>NaN</td>\n",
       "    </tr>\n",
       "    <tr>\n",
       "      <th>1949-05-01</th>\n",
       "      <td>121</td>\n",
       "      <td>-8.0</td>\n",
       "      <td>-5.0</td>\n",
       "      <td>NaN</td>\n",
       "    </tr>\n",
       "  </tbody>\n",
       "</table>\n",
       "</div>"
      ],
      "text/plain": [
       "            Passengers  Passengers_First_Difference  \\\n",
       "Month                                                 \n",
       "1949-01-01         112                          NaN   \n",
       "1949-02-01         118                          6.0   \n",
       "1949-03-01         132                         14.0   \n",
       "1949-04-01         129                         -3.0   \n",
       "1949-05-01         121                         -8.0   \n",
       "\n",
       "            Passengers_Second_Difference  Passengers_12_Difference  \n",
       "Month                                                               \n",
       "1949-01-01                           NaN                       NaN  \n",
       "1949-02-01                           NaN                       NaN  \n",
       "1949-03-01                           8.0                       NaN  \n",
       "1949-04-01                         -17.0                       NaN  \n",
       "1949-05-01                          -5.0                       NaN  "
      ]
     },
     "execution_count": 23,
     "metadata": {},
     "output_type": "execute_result"
    }
   ],
   "source": [
    "df_airline.head()"
   ]
  },
  {
   "cell_type": "markdown",
   "id": "d0c7ffac",
   "metadata": {},
   "source": [
    "### ACF & PACF plots"
   ]
  },
  {
   "cell_type": "code",
   "execution_count": 24,
   "id": "d9f3898b-3915-4138-b65a-716fe3e62383",
   "metadata": {},
   "outputs": [
    {
     "data": {
      "image/png": "[encoded data removed]",
      "text/plain": [
       "<Figure size 640x480 with 1 Axes>"
      ]
     },
     "metadata": {},
     "output_type": "display_data"
    }
   ],
   "source": [
    "sgt.plot_acf(df_airline['Passengers_Second_Difference'].dropna())\n",
    "plt.title('ACF for Passengers_Second_Difference', size=24)\n",
    "plt.ylim(-0.5,1.1)\n",
    "plt.show()\n",
    "# q=12"
   ]
  },
  {
   "cell_type": "code",
   "execution_count": 25,
   "id": "4274b024-62de-4ca7-ac2f-1564050a85b0",
   "metadata": {},
   "outputs": [
    {
     "data": {
      "image/png": "[encoded data removed]",
      "text/plain": [
       "<Figure size 640x480 with 1 Axes>"
      ]
     },
     "metadata": {},
     "output_type": "display_data"
    }
   ],
   "source": [
    "sgt.plot_acf(df_airline['Passengers_12_Difference'].dropna())\n",
    "plt.title('ACF for Passengers_12_Difference', size=24)\n",
    "plt.ylim(-0.5,1.1)\n",
    "plt.show()\n",
    "# q is q=5, after 5, there is no correlation"
   ]
  },
  {
   "cell_type": "code",
   "execution_count": 26,
   "id": "fde858de-9e7d-481f-afce-363cad2f2ca3",
   "metadata": {},
   "outputs": [
    {
     "data": {
      "image/png": "[encoded data removed]",
      "text/plain": [
       "<Figure size 640x480 with 1 Axes>"
      ]
     },
     "metadata": {},
     "output_type": "display_data"
    }
   ],
   "source": [
    "sgt.plot_pacf(df_airline['Passengers_Second_Difference'].dropna())\n",
    "plt.title('PACF for Passengers_Second_Difference', size=24)\n",
    "plt.ylim(-0.8,1.1)\n",
    "plt.show()\n",
    "# p=14"
   ]
  },
  {
   "cell_type": "code",
   "execution_count": 27,
   "id": "4cefa586-f4b1-477d-87d2-6d0103efd930",
   "metadata": {
    "scrolled": true
   },
   "outputs": [
    {
     "data": {
      "image/png": "[encoded data removed]",
      "text/plain": [
       "<Figure size 640x480 with 1 Axes>"
      ]
     },
     "metadata": {},
     "output_type": "display_data"
    }
   ],
   "source": [
    "sgt.plot_pacf(df_airline['Passengers_12_Difference'].dropna())\n",
    "plt.title('PACF for Passengers_12_Difference', size=24)\n",
    "plt.ylim(-0.3,1.1)\n",
    "plt.show()"
   ]
  },
  {
   "cell_type": "markdown",
   "id": "522c53c5-2a6c-4365-ade8-af2871c827ee",
   "metadata": {},
   "source": [
    "### Train & Test dataset (80:20)"
   ]
  },
  {
   "cell_type": "code",
   "execution_count": 28,
   "id": "26ddc52f-46fe-4460-b32c-f169a2d65428",
   "metadata": {},
   "outputs": [],
   "source": [
    "df_airline = df_airline.dropna()"
   ]
  },
  {
   "cell_type": "code",
   "execution_count": 29,
   "id": "11ee8f33-581a-4418-a7f8-6f8e6790c496",
   "metadata": {},
   "outputs": [
    {
     "data": {
      "text/plain": [
       "105"
      ]
     },
     "execution_count": 29,
     "metadata": {},
     "output_type": "execute_result"
    }
   ],
   "source": [
    "df_airline.describe()\n",
    "size = int(len(df_airline)*0.8)\n",
    "size"
   ]
  },
  {
   "cell_type": "code",
   "execution_count": 30,
   "id": "acc07332-ae71-4b9c-814b-85a08f975959",
   "metadata": {},
   "outputs": [],
   "source": [
    "size = int(len(df_airline)*0.8)\n",
    "df_train, df_test = df_airline.iloc[:size], df_airline.iloc[size:]"
   ]
  },
  {
   "cell_type": "code",
   "execution_count": 31,
   "id": "c4ba4d35-ee01-42c0-b09e-7fe2e673a5f9",
   "metadata": {},
   "outputs": [
    {
     "data": {
      "text/html": [
       "<div>\n",
       "<style scoped>\n",
       "    .dataframe tbody tr th:only-of-type {\n",
       "        vertical-align: middle;\n",
       "    }\n",
       "\n",
       "    .dataframe tbody tr th {\n",
       "        vertical-align: top;\n",
       "    }\n",
       "\n",
       "    .dataframe thead th {\n",
       "        text-align: right;\n",
       "    }\n",
       "</style>\n",
       "<table border=\"1\" class=\"dataframe\">\n",
       "  <thead>\n",
       "    <tr style=\"text-align: right;\">\n",
       "      <th></th>\n",
       "      <th>Passengers</th>\n",
       "      <th>Passengers_First_Difference</th>\n",
       "      <th>Passengers_Second_Difference</th>\n",
       "      <th>Passengers_12_Difference</th>\n",
       "    </tr>\n",
       "    <tr>\n",
       "      <th>Month</th>\n",
       "      <th></th>\n",
       "      <th></th>\n",
       "      <th></th>\n",
       "      <th></th>\n",
       "    </tr>\n",
       "  </thead>\n",
       "  <tbody>\n",
       "    <tr>\n",
       "      <th>1950-01-01</th>\n",
       "      <td>115</td>\n",
       "      <td>-3.0</td>\n",
       "      <td>-17.0</td>\n",
       "      <td>3.0</td>\n",
       "    </tr>\n",
       "    <tr>\n",
       "      <th>1950-02-01</th>\n",
       "      <td>126</td>\n",
       "      <td>11.0</td>\n",
       "      <td>14.0</td>\n",
       "      <td>8.0</td>\n",
       "    </tr>\n",
       "    <tr>\n",
       "      <th>1950-03-01</th>\n",
       "      <td>141</td>\n",
       "      <td>15.0</td>\n",
       "      <td>4.0</td>\n",
       "      <td>9.0</td>\n",
       "    </tr>\n",
       "    <tr>\n",
       "      <th>1950-04-01</th>\n",
       "      <td>135</td>\n",
       "      <td>-6.0</td>\n",
       "      <td>-21.0</td>\n",
       "      <td>6.0</td>\n",
       "    </tr>\n",
       "    <tr>\n",
       "      <th>1950-05-01</th>\n",
       "      <td>125</td>\n",
       "      <td>-10.0</td>\n",
       "      <td>-4.0</td>\n",
       "      <td>4.0</td>\n",
       "    </tr>\n",
       "  </tbody>\n",
       "</table>\n",
       "</div>"
      ],
      "text/plain": [
       "            Passengers  Passengers_First_Difference  \\\n",
       "Month                                                 \n",
       "1950-01-01         115                         -3.0   \n",
       "1950-02-01         126                         11.0   \n",
       "1950-03-01         141                         15.0   \n",
       "1950-04-01         135                         -6.0   \n",
       "1950-05-01         125                        -10.0   \n",
       "\n",
       "            Passengers_Second_Difference  Passengers_12_Difference  \n",
       "Month                                                               \n",
       "1950-01-01                         -17.0                       3.0  \n",
       "1950-02-01                          14.0                       8.0  \n",
       "1950-03-01                           4.0                       9.0  \n",
       "1950-04-01                         -21.0                       6.0  \n",
       "1950-05-01                          -4.0                       4.0  "
      ]
     },
     "execution_count": 31,
     "metadata": {},
     "output_type": "execute_result"
    }
   ],
   "source": [
    "df_train.head()"
   ]
  },
  {
   "cell_type": "code",
   "execution_count": 32,
   "id": "543f3780-a598-4350-971f-51ceb44a0d4a",
   "metadata": {},
   "outputs": [
    {
     "data": {
      "text/html": [
       "<div>\n",
       "<style scoped>\n",
       "    .dataframe tbody tr th:only-of-type {\n",
       "        vertical-align: middle;\n",
       "    }\n",
       "\n",
       "    .dataframe tbody tr th {\n",
       "        vertical-align: top;\n",
       "    }\n",
       "\n",
       "    .dataframe thead th {\n",
       "        text-align: right;\n",
       "    }\n",
       "</style>\n",
       "<table border=\"1\" class=\"dataframe\">\n",
       "  <thead>\n",
       "    <tr style=\"text-align: right;\">\n",
       "      <th></th>\n",
       "      <th>Passengers</th>\n",
       "      <th>Passengers_First_Difference</th>\n",
       "      <th>Passengers_Second_Difference</th>\n",
       "      <th>Passengers_12_Difference</th>\n",
       "    </tr>\n",
       "    <tr>\n",
       "      <th>Month</th>\n",
       "      <th></th>\n",
       "      <th></th>\n",
       "      <th></th>\n",
       "      <th></th>\n",
       "    </tr>\n",
       "  </thead>\n",
       "  <tbody>\n",
       "    <tr>\n",
       "      <th>1958-10-01</th>\n",
       "      <td>359</td>\n",
       "      <td>-45.0</td>\n",
       "      <td>56.0</td>\n",
       "      <td>12.0</td>\n",
       "    </tr>\n",
       "    <tr>\n",
       "      <th>1958-11-01</th>\n",
       "      <td>310</td>\n",
       "      <td>-49.0</td>\n",
       "      <td>-4.0</td>\n",
       "      <td>5.0</td>\n",
       "    </tr>\n",
       "    <tr>\n",
       "      <th>1958-12-01</th>\n",
       "      <td>337</td>\n",
       "      <td>27.0</td>\n",
       "      <td>76.0</td>\n",
       "      <td>1.0</td>\n",
       "    </tr>\n",
       "    <tr>\n",
       "      <th>1959-01-01</th>\n",
       "      <td>360</td>\n",
       "      <td>23.0</td>\n",
       "      <td>-4.0</td>\n",
       "      <td>20.0</td>\n",
       "    </tr>\n",
       "    <tr>\n",
       "      <th>1959-02-01</th>\n",
       "      <td>342</td>\n",
       "      <td>-18.0</td>\n",
       "      <td>-41.0</td>\n",
       "      <td>24.0</td>\n",
       "    </tr>\n",
       "  </tbody>\n",
       "</table>\n",
       "</div>"
      ],
      "text/plain": [
       "            Passengers  Passengers_First_Difference  \\\n",
       "Month                                                 \n",
       "1958-10-01         359                        -45.0   \n",
       "1958-11-01         310                        -49.0   \n",
       "1958-12-01         337                         27.0   \n",
       "1959-01-01         360                         23.0   \n",
       "1959-02-01         342                        -18.0   \n",
       "\n",
       "            Passengers_Second_Difference  Passengers_12_Difference  \n",
       "Month                                                               \n",
       "1958-10-01                          56.0                      12.0  \n",
       "1958-11-01                          -4.0                       5.0  \n",
       "1958-12-01                          76.0                       1.0  \n",
       "1959-01-01                          -4.0                      20.0  \n",
       "1959-02-01                         -41.0                      24.0  "
      ]
     },
     "execution_count": 32,
     "metadata": {},
     "output_type": "execute_result"
    }
   ],
   "source": [
    "df_test.head()"
   ]
  },
  {
   "cell_type": "markdown",
   "id": "b54195ce-7fc2-4766-aafb-ad4d280d7731",
   "metadata": {},
   "source": [
    "### Create ARIMA Model"
   ]
  },
  {
   "cell_type": "code",
   "execution_count": 33,
   "id": "5c1779ea-99c6-49aa-aec8-8478358cc929",
   "metadata": {},
   "outputs": [
    {
     "name": "stderr",
     "output_type": "stream",
     "text": [
      "C:\\Users\\Hamid.Azizi\\AppData\\Local\\anaconda3\\Lib\\site-packages\\statsmodels\\tsa\\base\\tsa_model.py:473: ValueWarning: No frequency information was provided, so inferred frequency MS will be used.\n",
      "  self._init_dates(dates, freq)\n",
      "C:\\Users\\Hamid.Azizi\\AppData\\Local\\anaconda3\\Lib\\site-packages\\statsmodels\\tsa\\base\\tsa_model.py:473: ValueWarning: No frequency information was provided, so inferred frequency MS will be used.\n",
      "  self._init_dates(dates, freq)\n",
      "C:\\Users\\Hamid.Azizi\\AppData\\Local\\anaconda3\\Lib\\site-packages\\statsmodels\\tsa\\base\\tsa_model.py:473: ValueWarning: No frequency information was provided, so inferred frequency MS will be used.\n",
      "  self._init_dates(dates, freq)\n",
      "C:\\Users\\Hamid.Azizi\\AppData\\Local\\anaconda3\\Lib\\site-packages\\statsmodels\\tsa\\statespace\\sarimax.py:966: UserWarning: Non-stationary starting autoregressive parameters found. Using zeros as starting parameters.\n",
      "  warn('Non-stationary starting autoregressive parameters'\n",
      "C:\\Users\\Hamid.Azizi\\AppData\\Local\\anaconda3\\Lib\\site-packages\\statsmodels\\tsa\\statespace\\sarimax.py:978: UserWarning: Non-invertible starting MA parameters found. Using zeros as starting parameters.\n",
      "  warn('Non-invertible starting MA parameters found.'\n",
      "C:\\Users\\Hamid.Azizi\\AppData\\Local\\anaconda3\\Lib\\site-packages\\statsmodels\\tsa\\statespace\\mlemodel.py:3015: RuntimeWarning: divide by zero encountered in divide\n",
      "  return self.params / self.bse\n",
      "C:\\Users\\Hamid.Azizi\\AppData\\Local\\anaconda3\\Lib\\site-packages\\statsmodels\\tsa\\stattools.py:1363: RuntimeWarning: invalid value encountered in divide\n",
      "  test_statistic = numer_squared_sum / denom_squared_sum\n",
      "C:\\Users\\Hamid.Azizi\\AppData\\Local\\anaconda3\\Lib\\site-packages\\statsmodels\\tsa\\stattools.py:691: RuntimeWarning: invalid value encountered in divide\n",
      "  acf = avf[: nlags + 1] / avf[0]\n"
     ]
    },
    {
     "data": {
      "text/html": [
       "<table class=\"simpletable\">\n",
       "<caption>SARIMAX Results</caption>\n",
       "<tr>\n",
       "  <th>Dep. Variable:</th>      <td>Passengers</td>    <th>  No. Observations:  </th>   <td>105</td> \n",
       "</tr>\n",
       "<tr>\n",
       "  <th>Model:</th>           <td>ARIMA(10, 12, 5)</td> <th>  Log Likelihood     </th>  <td>0.000</td>\n",
       "</tr>\n",
       "<tr>\n",
       "  <th>Date:</th>            <td>Tue, 23 Apr 2024</td> <th>  AIC                </th> <td>32.000</td>\n",
       "</tr>\n",
       "<tr>\n",
       "  <th>Time:</th>                <td>11:07:21</td>     <th>  BIC                </th> <td>72.522</td>\n",
       "</tr>\n",
       "<tr>\n",
       "  <th>Sample:</th>             <td>01-01-1950</td>    <th>  HQIC               </th> <td>48.361</td>\n",
       "</tr>\n",
       "<tr>\n",
       "  <th></th>                   <td>- 09-01-1958</td>   <th>                     </th>    <td> </td>  \n",
       "</tr>\n",
       "<tr>\n",
       "  <th>Covariance Type:</th>        <td>opg</td>       <th>                     </th>    <td> </td>  \n",
       "</tr>\n",
       "</table>\n",
       "<table class=\"simpletable\">\n",
       "<tr>\n",
       "     <td></td>       <th>coef</th>     <th>std err</th>      <th>z</th>      <th>P>|z|</th>  <th>[0.025</th>    <th>0.975]</th>  \n",
       "</tr>\n",
       "<tr>\n",
       "  <th>ar.L1</th>  <td>   -7.4198</td> <td>       -0</td> <td>      inf</td> <td> 0.000</td> <td>   -7.420</td> <td>   -7.420</td>\n",
       "</tr>\n",
       "<tr>\n",
       "  <th>ar.L2</th>  <td>  -23.5469</td> <td>       -0</td> <td>      inf</td> <td> 0.000</td> <td>  -23.547</td> <td>  -23.547</td>\n",
       "</tr>\n",
       "<tr>\n",
       "  <th>ar.L3</th>  <td>  -39.9668</td> <td>       -0</td> <td>      inf</td> <td> 0.000</td> <td>  -39.967</td> <td>  -39.967</td>\n",
       "</tr>\n",
       "<tr>\n",
       "  <th>ar.L4</th>  <td>  -33.9125</td> <td> 3.85e-07</td> <td>-8.81e+07</td> <td> 0.000</td> <td>  -33.913</td> <td>  -33.913</td>\n",
       "</tr>\n",
       "<tr>\n",
       "  <th>ar.L5</th>  <td>    0.1713</td> <td>       -0</td> <td>     -inf</td> <td> 0.000</td> <td>    0.171</td> <td>    0.171</td>\n",
       "</tr>\n",
       "<tr>\n",
       "  <th>ar.L6</th>  <td>   34.0917</td> <td>       -0</td> <td>     -inf</td> <td> 0.000</td> <td>   34.092</td> <td>   34.092</td>\n",
       "</tr>\n",
       "<tr>\n",
       "  <th>ar.L7</th>  <td>   39.8781</td> <td>       -0</td> <td>     -inf</td> <td> 0.000</td> <td>   39.878</td> <td>   39.878</td>\n",
       "</tr>\n",
       "<tr>\n",
       "  <th>ar.L8</th>  <td>   23.3828</td> <td>       -0</td> <td>     -inf</td> <td> 0.000</td> <td>   23.383</td> <td>   23.383</td>\n",
       "</tr>\n",
       "<tr>\n",
       "  <th>ar.L9</th>  <td>    7.3372</td> <td>       -0</td> <td>     -inf</td> <td> 0.000</td> <td>    7.337</td> <td>    7.337</td>\n",
       "</tr>\n",
       "<tr>\n",
       "  <th>ar.L10</th> <td>    0.9849</td> <td>       -0</td> <td>     -inf</td> <td> 0.000</td> <td>    0.985</td> <td>    0.985</td>\n",
       "</tr>\n",
       "<tr>\n",
       "  <th>ma.L1</th>  <td>   -1.1830</td> <td>       -0</td> <td>      inf</td> <td> 0.000</td> <td>   -1.183</td> <td>   -1.183</td>\n",
       "</tr>\n",
       "<tr>\n",
       "  <th>ma.L2</th>  <td>   -0.9850</td> <td>       -0</td> <td>      inf</td> <td> 0.000</td> <td>   -0.985</td> <td>   -0.985</td>\n",
       "</tr>\n",
       "<tr>\n",
       "  <th>ma.L3</th>  <td>    0.9673</td> <td>       -0</td> <td>     -inf</td> <td> 0.000</td> <td>    0.967</td> <td>    0.967</td>\n",
       "</tr>\n",
       "<tr>\n",
       "  <th>ma.L4</th>  <td>    1.1902</td> <td>       -0</td> <td>     -inf</td> <td> 0.000</td> <td>    1.190</td> <td>    1.190</td>\n",
       "</tr>\n",
       "<tr>\n",
       "  <th>ma.L5</th>  <td>   -0.9895</td> <td>       -0</td> <td>      inf</td> <td> 0.000</td> <td>   -0.990</td> <td>   -0.990</td>\n",
       "</tr>\n",
       "<tr>\n",
       "  <th>sigma2</th> <td> 1.057e+04</td> <td>       -0</td> <td>     -inf</td> <td> 0.000</td> <td> 1.06e+04</td> <td> 1.06e+04</td>\n",
       "</tr>\n",
       "</table>\n",
       "<table class=\"simpletable\">\n",
       "<tr>\n",
       "  <th>Ljung-Box (L1) (Q):</th>     <td>nan</td> <th>  Jarque-Bera (JB):  </th> <td>nan</td>\n",
       "</tr>\n",
       "<tr>\n",
       "  <th>Prob(Q):</th>                <td>nan</td> <th>  Prob(JB):          </th> <td>nan</td>\n",
       "</tr>\n",
       "<tr>\n",
       "  <th>Heteroskedasticity (H):</th> <td>nan</td> <th>  Skew:              </th> <td>nan</td>\n",
       "</tr>\n",
       "<tr>\n",
       "  <th>Prob(H) (two-sided):</th>    <td>nan</td> <th>  Kurtosis:          </th> <td>nan</td>\n",
       "</tr>\n",
       "</table><br/><br/>Warnings:<br/>[1] Covariance matrix calculated using the outer product of gradients (complex-step).<br/>[2] Covariance matrix is singular or near-singular, with condition number    inf. Standard errors may be unstable."
      ],
      "text/latex": [
       "\\begin{center}\n",
       "\\begin{tabular}{lclc}\n",
       "\\toprule\n",
       "\\textbf{Dep. Variable:}          &    Passengers    & \\textbf{  No. Observations:  } &    105      \\\\\n",
       "\\textbf{Model:}                  & ARIMA(10, 12, 5) & \\textbf{  Log Likelihood     } &   0.000     \\\\\n",
       "\\textbf{Date:}                   & Tue, 23 Apr 2024 & \\textbf{  AIC                } &   32.000    \\\\\n",
       "\\textbf{Time:}                   &     11:07:21     & \\textbf{  BIC                } &   72.522    \\\\\n",
       "\\textbf{Sample:}                 &    01-01-1950    & \\textbf{  HQIC               } &   48.361    \\\\\n",
       "\\textbf{}                        &   - 09-01-1958   & \\textbf{                     } &             \\\\\n",
       "\\textbf{Covariance Type:}        &       opg        & \\textbf{                     } &             \\\\\n",
       "\\bottomrule\n",
       "\\end{tabular}\n",
       "\\begin{tabular}{lcccccc}\n",
       "                & \\textbf{coef} & \\textbf{std err} & \\textbf{z} & \\textbf{P$> |$z$|$} & \\textbf{[0.025} & \\textbf{0.975]}  \\\\\n",
       "\\midrule\n",
       "\\textbf{ar.L1}  &      -7.4198  &           -0     &       inf  &         0.000        &       -7.420    &       -7.420     \\\\\n",
       "\\textbf{ar.L2}  &     -23.5469  &           -0     &       inf  &         0.000        &      -23.547    &      -23.547     \\\\\n",
       "\\textbf{ar.L3}  &     -39.9668  &           -0     &       inf  &         0.000        &      -39.967    &      -39.967     \\\\\n",
       "\\textbf{ar.L4}  &     -33.9125  &     3.85e-07     & -8.81e+07  &         0.000        &      -33.913    &      -33.913     \\\\\n",
       "\\textbf{ar.L5}  &       0.1713  &           -0     &      -inf  &         0.000        &        0.171    &        0.171     \\\\\n",
       "\\textbf{ar.L6}  &      34.0917  &           -0     &      -inf  &         0.000        &       34.092    &       34.092     \\\\\n",
       "\\textbf{ar.L7}  &      39.8781  &           -0     &      -inf  &         0.000        &       39.878    &       39.878     \\\\\n",
       "\\textbf{ar.L8}  &      23.3828  &           -0     &      -inf  &         0.000        &       23.383    &       23.383     \\\\\n",
       "\\textbf{ar.L9}  &       7.3372  &           -0     &      -inf  &         0.000        &        7.337    &        7.337     \\\\\n",
       "\\textbf{ar.L10} &       0.9849  &           -0     &      -inf  &         0.000        &        0.985    &        0.985     \\\\\n",
       "\\textbf{ma.L1}  &      -1.1830  &           -0     &       inf  &         0.000        &       -1.183    &       -1.183     \\\\\n",
       "\\textbf{ma.L2}  &      -0.9850  &           -0     &       inf  &         0.000        &       -0.985    &       -0.985     \\\\\n",
       "\\textbf{ma.L3}  &       0.9673  &           -0     &      -inf  &         0.000        &        0.967    &        0.967     \\\\\n",
       "\\textbf{ma.L4}  &       1.1902  &           -0     &      -inf  &         0.000        &        1.190    &        1.190     \\\\\n",
       "\\textbf{ma.L5}  &      -0.9895  &           -0     &       inf  &         0.000        &       -0.990    &       -0.990     \\\\\n",
       "\\textbf{sigma2} &    1.057e+04  &           -0     &      -inf  &         0.000        &     1.06e+04    &     1.06e+04     \\\\\n",
       "\\bottomrule\n",
       "\\end{tabular}\n",
       "\\begin{tabular}{lclc}\n",
       "\\textbf{Ljung-Box (L1) (Q):}     & nan & \\textbf{  Jarque-Bera (JB):  } & nan  \\\\\n",
       "\\textbf{Prob(Q):}                & nan & \\textbf{  Prob(JB):          } & nan  \\\\\n",
       "\\textbf{Heteroskedasticity (H):} & nan & \\textbf{  Skew:              } & nan  \\\\\n",
       "\\textbf{Prob(H) (two-sided):}    & nan & \\textbf{  Kurtosis:          } & nan  \\\\\n",
       "\\bottomrule\n",
       "\\end{tabular}\n",
       "%\\caption{SARIMAX Results}\n",
       "\\end{center}\n",
       "\n",
       "Warnings: \\newline\n",
       " [1] Covariance matrix calculated using the outer product of gradients (complex-step). \\newline\n",
       " [2] Covariance matrix is singular or near-singular, with condition number    inf. Standard errors may be unstable."
      ],
      "text/plain": [
       "<class 'statsmodels.iolib.summary.Summary'>\n",
       "\"\"\"\n",
       "                               SARIMAX Results                                \n",
       "==============================================================================\n",
       "Dep. Variable:             Passengers   No. Observations:                  105\n",
       "Model:               ARIMA(10, 12, 5)   Log Likelihood                   0.000\n",
       "Date:                Tue, 23 Apr 2024   AIC                             32.000\n",
       "Time:                        11:07:21   BIC                             72.522\n",
       "Sample:                    01-01-1950   HQIC                            48.361\n",
       "                         - 09-01-1958                                         \n",
       "Covariance Type:                  opg                                         \n",
       "==============================================================================\n",
       "                 coef    std err          z      P>|z|      [0.025      0.975]\n",
       "------------------------------------------------------------------------------\n",
       "ar.L1         -7.4198         -0        inf      0.000      -7.420      -7.420\n",
       "ar.L2        -23.5469         -0        inf      0.000     -23.547     -23.547\n",
       "ar.L3        -39.9668         -0        inf      0.000     -39.967     -39.967\n",
       "ar.L4        -33.9125   3.85e-07  -8.81e+07      0.000     -33.913     -33.913\n",
       "ar.L5          0.1713         -0       -inf      0.000       0.171       0.171\n",
       "ar.L6         34.0917         -0       -inf      0.000      34.092      34.092\n",
       "ar.L7         39.8781         -0       -inf      0.000      39.878      39.878\n",
       "ar.L8         23.3828         -0       -inf      0.000      23.383      23.383\n",
       "ar.L9          7.3372         -0       -inf      0.000       7.337       7.337\n",
       "ar.L10         0.9849         -0       -inf      0.000       0.985       0.985\n",
       "ma.L1         -1.1830         -0        inf      0.000      -1.183      -1.183\n",
       "ma.L2         -0.9850         -0        inf      0.000      -0.985      -0.985\n",
       "ma.L3          0.9673         -0       -inf      0.000       0.967       0.967\n",
       "ma.L4          1.1902         -0       -inf      0.000       1.190       1.190\n",
       "ma.L5         -0.9895         -0        inf      0.000      -0.990      -0.990\n",
       "sigma2      1.057e+04         -0       -inf      0.000    1.06e+04    1.06e+04\n",
       "===================================================================================\n",
       "Ljung-Box (L1) (Q):                    nan   Jarque-Bera (JB):                  nan\n",
       "Prob(Q):                               nan   Prob(JB):                          nan\n",
       "Heteroskedasticity (H):                nan   Skew:                              nan\n",
       "Prob(H) (two-sided):                   nan   Kurtosis:                          nan\n",
       "===================================================================================\n",
       "\n",
       "Warnings:\n",
       "[1] Covariance matrix calculated using the outer product of gradients (complex-step).\n",
       "[2] Covariance matrix is singular or near-singular, with condition number    inf. Standard errors may be unstable.\n",
       "\"\"\""
      ]
     },
     "execution_count": 33,
     "metadata": {},
     "output_type": "execute_result"
    }
   ],
   "source": [
    "model_arima = ARIMA(df_train['Passengers'], order=(10,12,5))\n",
    "rsults_arima = model_arima.fit()\n",
    "rsults_arima.summary()"
   ]
  },
  {
   "cell_type": "code",
   "execution_count": 34,
   "id": "a69234dd-54a5-4e14-b8df-6c86d3f5f74a",
   "metadata": {},
   "outputs": [],
   "source": [
    "# All the coefficients are significant"
   ]
  },
  {
   "cell_type": "markdown",
   "id": "ed135bb8-414d-413b-a9d4-14eaa9d63d7a",
   "metadata": {},
   "source": [
    "### Prediction"
   ]
  },
  {
   "cell_type": "code",
   "execution_count": 35,
   "id": "88ff4ec1-9a07-4f52-8093-eee5d5b186b6",
   "metadata": {},
   "outputs": [
    {
     "data": {
      "text/html": [
       "<div>\n",
       "<style scoped>\n",
       "    .dataframe tbody tr th:only-of-type {\n",
       "        vertical-align: middle;\n",
       "    }\n",
       "\n",
       "    .dataframe tbody tr th {\n",
       "        vertical-align: top;\n",
       "    }\n",
       "\n",
       "    .dataframe thead th {\n",
       "        text-align: right;\n",
       "    }\n",
       "</style>\n",
       "<table border=\"1\" class=\"dataframe\">\n",
       "  <thead>\n",
       "    <tr style=\"text-align: right;\">\n",
       "      <th></th>\n",
       "      <th>Passengers</th>\n",
       "      <th>Passengers_First_Difference</th>\n",
       "      <th>Passengers_Second_Difference</th>\n",
       "      <th>Passengers_12_Difference</th>\n",
       "    </tr>\n",
       "    <tr>\n",
       "      <th>Month</th>\n",
       "      <th></th>\n",
       "      <th></th>\n",
       "      <th></th>\n",
       "      <th></th>\n",
       "    </tr>\n",
       "  </thead>\n",
       "  <tbody>\n",
       "    <tr>\n",
       "      <th>1958-10-01</th>\n",
       "      <td>359</td>\n",
       "      <td>-45.0</td>\n",
       "      <td>56.0</td>\n",
       "      <td>12.0</td>\n",
       "    </tr>\n",
       "    <tr>\n",
       "      <th>1958-11-01</th>\n",
       "      <td>310</td>\n",
       "      <td>-49.0</td>\n",
       "      <td>-4.0</td>\n",
       "      <td>5.0</td>\n",
       "    </tr>\n",
       "    <tr>\n",
       "      <th>1958-12-01</th>\n",
       "      <td>337</td>\n",
       "      <td>27.0</td>\n",
       "      <td>76.0</td>\n",
       "      <td>1.0</td>\n",
       "    </tr>\n",
       "    <tr>\n",
       "      <th>1959-01-01</th>\n",
       "      <td>360</td>\n",
       "      <td>23.0</td>\n",
       "      <td>-4.0</td>\n",
       "      <td>20.0</td>\n",
       "    </tr>\n",
       "    <tr>\n",
       "      <th>1959-02-01</th>\n",
       "      <td>342</td>\n",
       "      <td>-18.0</td>\n",
       "      <td>-41.0</td>\n",
       "      <td>24.0</td>\n",
       "    </tr>\n",
       "  </tbody>\n",
       "</table>\n",
       "</div>"
      ],
      "text/plain": [
       "            Passengers  Passengers_First_Difference  \\\n",
       "Month                                                 \n",
       "1958-10-01         359                        -45.0   \n",
       "1958-11-01         310                        -49.0   \n",
       "1958-12-01         337                         27.0   \n",
       "1959-01-01         360                         23.0   \n",
       "1959-02-01         342                        -18.0   \n",
       "\n",
       "            Passengers_Second_Difference  Passengers_12_Difference  \n",
       "Month                                                               \n",
       "1958-10-01                          56.0                      12.0  \n",
       "1958-11-01                          -4.0                       5.0  \n",
       "1958-12-01                          76.0                       1.0  \n",
       "1959-01-01                          -4.0                      20.0  \n",
       "1959-02-01                         -41.0                      24.0  "
      ]
     },
     "execution_count": 35,
     "metadata": {},
     "output_type": "execute_result"
    }
   ],
   "source": [
    "df_test.head()"
   ]
  },
  {
   "cell_type": "code",
   "execution_count": 36,
   "id": "b6d6c64a-9693-4770-999d-b3f056ede361",
   "metadata": {},
   "outputs": [
    {
     "name": "stdout",
     "output_type": "stream",
     "text": [
      "1958-10-01 00:00:00\n",
      "1960-12-01 00:00:00\n"
     ]
    }
   ],
   "source": [
    "pred_start_date = df_test.index[0]\n",
    "pred_end_date = df_test.index[-1]\n",
    "print(pred_start_date)\n",
    "print(pred_end_date)"
   ]
  },
  {
   "cell_type": "code",
   "execution_count": 37,
   "id": "80277e41-4eb0-4423-8a9e-4216e7d67214",
   "metadata": {},
   "outputs": [],
   "source": [
    "prediction = rsults_arima.predict(start = pred_start_date, end = pred_end_date)\n",
    "#residuals = df_test['Passengers']-prediction "
   ]
  },
  {
   "cell_type": "code",
   "execution_count": 38,
   "id": "324a3a2b-afae-4b48-a3e8-2f53c8ddef2c",
   "metadata": {},
   "outputs": [],
   "source": [
    "#df_test['Passengers']"
   ]
  },
  {
   "cell_type": "code",
   "execution_count": 39,
   "id": "84c44749-a0f7-4bbc-b632-a76ecebbc00b",
   "metadata": {},
   "outputs": [],
   "source": [
    "#prediction"
   ]
  },
  {
   "cell_type": "code",
   "execution_count": 40,
   "id": "c1e4a02d-68e2-49ed-9594-a6ef506719b0",
   "metadata": {},
   "outputs": [],
   "source": [
    "#residuals"
   ]
  },
  {
   "cell_type": "code",
   "execution_count": 41,
   "id": "7740cd42-c441-4f13-9770-c54619b21a83",
   "metadata": {},
   "outputs": [],
   "source": [
    "#rsults_arima.resid.plot(kind='kde')"
   ]
  },
  {
   "cell_type": "code",
   "execution_count": 42,
   "id": "d06525cf-128f-40c8-85bf-23018c52fdf8",
   "metadata": {},
   "outputs": [
    {
     "name": "stderr",
     "output_type": "stream",
     "text": [
      "C:\\Users\\Hamid.Azizi\\AppData\\Local\\Temp\\1\\ipykernel_14500\\798091373.py:1: SettingWithCopyWarning: \n",
      "A value is trying to be set on a copy of a slice from a DataFrame.\n",
      "Try using .loc[row_indexer,col_indexer] = value instead\n",
      "\n",
      "See the caveats in the documentation: https://pandas.pydata.org/pandas-docs/stable/user_guide/indexing.html#returning-a-view-versus-a-copy\n",
      "  df_test['Predicted_ARIMA'] = prediction\n"
     ]
    }
   ],
   "source": [
    "df_test['Predicted_ARIMA'] = prediction"
   ]
  },
  {
   "cell_type": "code",
   "execution_count": 43,
   "id": "6d312f47-719b-4f17-a78e-aefb283eb6eb",
   "metadata": {},
   "outputs": [
    {
     "data": {
      "text/plain": [
       "<Axes: xlabel='Month'>"
      ]
     },
     "execution_count": 43,
     "metadata": {},
     "output_type": "execute_result"
    },
    {
     "data": {
      "image/png": "[encoded data removed]",
      "text/plain": [
       "<Figure size 640x480 with 1 Axes>"
      ]
     },
     "metadata": {},
     "output_type": "display_data"
    }
   ],
   "source": [
    "df_test[['Passengers', 'Predicted_ARIMA']].plot()"
   ]
  },
  {
   "cell_type": "code",
   "execution_count": 44,
   "id": "f3bb3e32-b933-4551-85ed-6826dc457764",
   "metadata": {},
   "outputs": [
    {
     "data": {
      "text/plain": [
       "5.431419072483256e+34"
      ]
     },
     "execution_count": 44,
     "metadata": {},
     "output_type": "execute_result"
    }
   ],
   "source": [
    "mse_ARIMA = mean_squared_error(df_test['Passengers'], df_test['Predicted_ARIMA'])\n",
    "mse_ARIMA"
   ]
  },
  {
   "cell_type": "code",
   "execution_count": null,
   "id": "f14057bb",
   "metadata": {},
   "outputs": [],
   "source": [
    "# ARIMA is not a good model for seasonal data forecasting"
   ]
  },
  {
   "cell_type": "markdown",
   "id": "55d2db23-129d-4f78-9389-fd23d76af882",
   "metadata": {},
   "source": [
    "### Create ETS Model_additive"
   ]
  },
  {
   "cell_type": "code",
   "execution_count": 128,
   "id": "cb670e1b-abb1-40f1-ae25-4b4e307d57f2",
   "metadata": {},
   "outputs": [
    {
     "data": {
      "text/html": [
       "<div>\n",
       "<style scoped>\n",
       "    .dataframe tbody tr th:only-of-type {\n",
       "        vertical-align: middle;\n",
       "    }\n",
       "\n",
       "    .dataframe tbody tr th {\n",
       "        vertical-align: top;\n",
       "    }\n",
       "\n",
       "    .dataframe thead th {\n",
       "        text-align: right;\n",
       "    }\n",
       "</style>\n",
       "<table border=\"1\" class=\"dataframe\">\n",
       "  <thead>\n",
       "    <tr style=\"text-align: right;\">\n",
       "      <th></th>\n",
       "      <th>Passengers</th>\n",
       "      <th>Passengers_First_Difference</th>\n",
       "      <th>Passengers_Second_Difference</th>\n",
       "      <th>Passengers_12_Difference</th>\n",
       "      <th>Predicted_ARIMA</th>\n",
       "    </tr>\n",
       "    <tr>\n",
       "      <th>Month</th>\n",
       "      <th></th>\n",
       "      <th></th>\n",
       "      <th></th>\n",
       "      <th></th>\n",
       "      <th></th>\n",
       "    </tr>\n",
       "  </thead>\n",
       "  <tbody>\n",
       "    <tr>\n",
       "      <th>1958-10-01</th>\n",
       "      <td>359</td>\n",
       "      <td>-45.0</td>\n",
       "      <td>56.0</td>\n",
       "      <td>12.0</td>\n",
       "      <td>4.746997e+16</td>\n",
       "    </tr>\n",
       "    <tr>\n",
       "      <th>1958-11-01</th>\n",
       "      <td>310</td>\n",
       "      <td>-49.0</td>\n",
       "      <td>-4.0</td>\n",
       "      <td>5.0</td>\n",
       "      <td>5.237402e+16</td>\n",
       "    </tr>\n",
       "    <tr>\n",
       "      <th>1958-12-01</th>\n",
       "      <td>337</td>\n",
       "      <td>27.0</td>\n",
       "      <td>76.0</td>\n",
       "      <td>1.0</td>\n",
       "      <td>5.773434e+16</td>\n",
       "    </tr>\n",
       "    <tr>\n",
       "      <th>1959-01-01</th>\n",
       "      <td>360</td>\n",
       "      <td>23.0</td>\n",
       "      <td>-4.0</td>\n",
       "      <td>20.0</td>\n",
       "      <td>6.358880e+16</td>\n",
       "    </tr>\n",
       "    <tr>\n",
       "      <th>1959-02-01</th>\n",
       "      <td>342</td>\n",
       "      <td>-18.0</td>\n",
       "      <td>-41.0</td>\n",
       "      <td>24.0</td>\n",
       "      <td>6.997800e+16</td>\n",
       "    </tr>\n",
       "  </tbody>\n",
       "</table>\n",
       "</div>"
      ],
      "text/plain": [
       "            Passengers  Passengers_First_Difference  \\\n",
       "Month                                                 \n",
       "1958-10-01         359                        -45.0   \n",
       "1958-11-01         310                        -49.0   \n",
       "1958-12-01         337                         27.0   \n",
       "1959-01-01         360                         23.0   \n",
       "1959-02-01         342                        -18.0   \n",
       "\n",
       "            Passengers_Second_Difference  Passengers_12_Difference  \\\n",
       "Month                                                                \n",
       "1958-10-01                          56.0                      12.0   \n",
       "1958-11-01                          -4.0                       5.0   \n",
       "1958-12-01                          76.0                       1.0   \n",
       "1959-01-01                          -4.0                      20.0   \n",
       "1959-02-01                         -41.0                      24.0   \n",
       "\n",
       "            Predicted_ARIMA  \n",
       "Month                        \n",
       "1958-10-01     4.746997e+16  \n",
       "1958-11-01     5.237402e+16  \n",
       "1958-12-01     5.773434e+16  \n",
       "1959-01-01     6.358880e+16  \n",
       "1959-02-01     6.997800e+16  "
      ]
     },
     "execution_count": 128,
     "metadata": {},
     "output_type": "execute_result"
    }
   ],
   "source": [
    "df_test.head()"
   ]
  },
  {
   "cell_type": "code",
   "execution_count": 130,
   "id": "9fd370bf-3ca7-4908-9cfe-029545c43348",
   "metadata": {
    "scrolled": true
   },
   "outputs": [
    {
     "name": "stderr",
     "output_type": "stream",
     "text": [
      "C:\\Users\\Hamid.Azizi\\AppData\\Local\\anaconda3\\Lib\\site-packages\\statsmodels\\tsa\\base\\tsa_model.py:473: ValueWarning: No frequency information was provided, so inferred frequency MS will be used.\n",
      "  self._init_dates(dates, freq)\n"
     ]
    },
    {
     "data": {
      "text/html": [
       "<table class=\"simpletable\">\n",
       "<caption>ExponentialSmoothing Model Results</caption>\n",
       "<tr>\n",
       "  <th>Dep. Variable:</th>         <td>Passengers</td>      <th>  No. Observations:  </th>        <td>105</td>      \n",
       "</tr>\n",
       "<tr>\n",
       "  <th>Model:</th>            <td>ExponentialSmoothing</td> <th>  SSE                </th>     <td>14909.658</td>   \n",
       "</tr>\n",
       "<tr>\n",
       "  <th>Optimized:</th>                <td>True</td>         <th>  AIC                </th>      <td>552.359</td>    \n",
       "</tr>\n",
       "<tr>\n",
       "  <th>Trend:</th>                  <td>Additive</td>       <th>  BIC                </th>      <td>594.823</td>    \n",
       "</tr>\n",
       "<tr>\n",
       "  <th>Seasonal:</th>               <td>Additive</td>       <th>  AICC               </th>      <td>560.313</td>    \n",
       "</tr>\n",
       "<tr>\n",
       "  <th>Seasonal Periods:</th>          <td>12</td>          <th>  Date:              </th> <td>Mon, 18 Mar 2024</td>\n",
       "</tr>\n",
       "<tr>\n",
       "  <th>Box-Cox:</th>                  <td>False</td>        <th>  Time:              </th>     <td>12:22:46</td>    \n",
       "</tr>\n",
       "<tr>\n",
       "  <th>Box-Cox Coeff.:</th>           <td>None</td>         <th>                     </th>         <td> </td>       \n",
       "</tr>\n",
       "</table>\n",
       "<table class=\"simpletable\">\n",
       "<tr>\n",
       "           <td></td>                  <th>coeff</th>                <th>code</th>               <th>optimized</th>     \n",
       "</tr>\n",
       "<tr>\n",
       "  <th>smoothing_level</th>    <td>           0.2269933</td> <td>               alpha</td> <td>                True</td>\n",
       "</tr>\n",
       "<tr>\n",
       "  <th>smoothing_trend</th>    <td>          9.6527e-09</td> <td>                beta</td> <td>                True</td>\n",
       "</tr>\n",
       "<tr>\n",
       "  <th>smoothing_seasonal</th> <td>           0.7730066</td> <td>               gamma</td> <td>                True</td>\n",
       "</tr>\n",
       "<tr>\n",
       "  <th>initial_level</th>      <td>           123.54618</td> <td>                 l.0</td> <td>                True</td>\n",
       "</tr>\n",
       "<tr>\n",
       "  <th>initial_trend</th>      <td>           2.5433458</td> <td>                 b.0</td> <td>                True</td>\n",
       "</tr>\n",
       "<tr>\n",
       "  <th>initial_seasons.0</th>  <td>          -11.086725</td> <td>                 s.0</td> <td>                True</td>\n",
       "</tr>\n",
       "<tr>\n",
       "  <th>initial_seasons.1</th>  <td>          -2.3461953</td> <td>                 s.1</td> <td>                True</td>\n",
       "</tr>\n",
       "<tr>\n",
       "  <th>initial_seasons.2</th>  <td>           12.033755</td> <td>                 s.2</td> <td>                True</td>\n",
       "</tr>\n",
       "<tr>\n",
       "  <th>initial_seasons.3</th>  <td>           2.5236128</td> <td>                 s.3</td> <td>                True</td>\n",
       "</tr>\n",
       "<tr>\n",
       "  <th>initial_seasons.4</th>  <td>          -8.8571962</td> <td>                 s.4</td> <td>                True</td>\n",
       "</tr>\n",
       "<tr>\n",
       "  <th>initial_seasons.5</th>  <td>           8.4957225</td> <td>                 s.5</td> <td>                True</td>\n",
       "</tr>\n",
       "<tr>\n",
       "  <th>initial_seasons.6</th>  <td>           25.942563</td> <td>                 s.6</td> <td>                True</td>\n",
       "</tr>\n",
       "<tr>\n",
       "  <th>initial_seasons.7</th>  <td>           22.928995</td> <td>                 s.7</td> <td>                True</td>\n",
       "</tr>\n",
       "<tr>\n",
       "  <th>initial_seasons.8</th>  <td>           8.0368276</td> <td>                 s.8</td> <td>                True</td>\n",
       "</tr>\n",
       "<tr>\n",
       "  <th>initial_seasons.9</th>  <td>          -17.999546</td> <td>                 s.9</td> <td>                True</td>\n",
       "</tr>\n",
       "<tr>\n",
       "  <th>initial_seasons.10</th> <td>          -38.785239</td> <td>                s.10</td> <td>                True</td>\n",
       "</tr>\n",
       "<tr>\n",
       "  <th>initial_seasons.11</th> <td>          -15.460300</td> <td>                s.11</td> <td>                True</td>\n",
       "</tr>\n",
       "</table>"
      ],
      "text/latex": [
       "\\begin{center}\n",
       "\\begin{tabular}{lclc}\n",
       "\\toprule\n",
       "\\textbf{Dep. Variable:}      &      Passengers      & \\textbf{  No. Observations:  } &         105           \\\\\n",
       "\\textbf{Model:}              & ExponentialSmoothing & \\textbf{  SSE                } &      14909.658        \\\\\n",
       "\\textbf{Optimized:}          &         True         & \\textbf{  AIC                } &       552.359         \\\\\n",
       "\\textbf{Trend:}              &       Additive       & \\textbf{  BIC                } &       594.823         \\\\\n",
       "\\textbf{Seasonal:}           &       Additive       & \\textbf{  AICC               } &       560.313         \\\\\n",
       "\\textbf{Seasonal Periods:}   &          12          & \\textbf{  Date:              } &   Mon, 18 Mar 2024    \\\\\n",
       "\\textbf{Box-Cox:}            &        False         & \\textbf{  Time:              } &       12:22:46        \\\\\n",
       "\\textbf{Box-Cox Coeff.:}     &         None         & \\textbf{                     } &                       \\\\\n",
       "\\bottomrule\n",
       "\\end{tabular}\n",
       "\\begin{tabular}{lccc}\n",
       "                             &    \\textbf{coeff}    &    \\textbf{code}     &  \\textbf{optimized}   \\\\\n",
       "\\midrule\n",
       "\\textbf{smoothing\\_level}    &            0.2269933 &                alpha &                 True  \\\\\n",
       "\\textbf{smoothing\\_trend}    &           9.6527e-09 &                 beta &                 True  \\\\\n",
       "\\textbf{smoothing\\_seasonal} &            0.7730066 &                gamma &                 True  \\\\\n",
       "\\textbf{initial\\_level}      &            123.54618 &                  l.0 &                 True  \\\\\n",
       "\\textbf{initial\\_trend}      &            2.5433458 &                  b.0 &                 True  \\\\\n",
       "\\textbf{initial\\_seasons.0}  &           -11.086725 &                  s.0 &                 True  \\\\\n",
       "\\textbf{initial\\_seasons.1}  &           -2.3461953 &                  s.1 &                 True  \\\\\n",
       "\\textbf{initial\\_seasons.2}  &            12.033755 &                  s.2 &                 True  \\\\\n",
       "\\textbf{initial\\_seasons.3}  &            2.5236128 &                  s.3 &                 True  \\\\\n",
       "\\textbf{initial\\_seasons.4}  &           -8.8571962 &                  s.4 &                 True  \\\\\n",
       "\\textbf{initial\\_seasons.5}  &            8.4957225 &                  s.5 &                 True  \\\\\n",
       "\\textbf{initial\\_seasons.6}  &            25.942563 &                  s.6 &                 True  \\\\\n",
       "\\textbf{initial\\_seasons.7}  &            22.928995 &                  s.7 &                 True  \\\\\n",
       "\\textbf{initial\\_seasons.8}  &            8.0368276 &                  s.8 &                 True  \\\\\n",
       "\\textbf{initial\\_seasons.9}  &           -17.999546 &                  s.9 &                 True  \\\\\n",
       "\\textbf{initial\\_seasons.10} &           -38.785239 &                 s.10 &                 True  \\\\\n",
       "\\textbf{initial\\_seasons.11} &           -15.460300 &                 s.11 &                 True  \\\\\n",
       "\\bottomrule\n",
       "\\end{tabular}\n",
       "%\\caption{ExponentialSmoothing Model Results}\n",
       "\\end{center}"
      ],
      "text/plain": [
       "<class 'statsmodels.iolib.summary.Summary'>\n",
       "\"\"\"\n",
       "                       ExponentialSmoothing Model Results                       \n",
       "================================================================================\n",
       "Dep. Variable:               Passengers   No. Observations:                  105\n",
       "Model:             ExponentialSmoothing   SSE                          14909.658\n",
       "Optimized:                         True   AIC                            552.359\n",
       "Trend:                         Additive   BIC                            594.823\n",
       "Seasonal:                      Additive   AICC                           560.313\n",
       "Seasonal Periods:                    12   Date:                 Mon, 18 Mar 2024\n",
       "Box-Cox:                          False   Time:                         12:22:46\n",
       "Box-Cox Coeff.:                    None                                         \n",
       "=================================================================================\n",
       "                          coeff                 code              optimized      \n",
       "---------------------------------------------------------------------------------\n",
       "smoothing_level               0.2269933                alpha                 True\n",
       "smoothing_trend              9.6527e-09                 beta                 True\n",
       "smoothing_seasonal            0.7730066                gamma                 True\n",
       "initial_level                 123.54618                  l.0                 True\n",
       "initial_trend                 2.5433458                  b.0                 True\n",
       "initial_seasons.0            -11.086725                  s.0                 True\n",
       "initial_seasons.1            -2.3461953                  s.1                 True\n",
       "initial_seasons.2             12.033755                  s.2                 True\n",
       "initial_seasons.3             2.5236128                  s.3                 True\n",
       "initial_seasons.4            -8.8571962                  s.4                 True\n",
       "initial_seasons.5             8.4957225                  s.5                 True\n",
       "initial_seasons.6             25.942563                  s.6                 True\n",
       "initial_seasons.7             22.928995                  s.7                 True\n",
       "initial_seasons.8             8.0368276                  s.8                 True\n",
       "initial_seasons.9            -17.999546                  s.9                 True\n",
       "initial_seasons.10           -38.785239                 s.10                 True\n",
       "initial_seasons.11           -15.460300                 s.11                 True\n",
       "---------------------------------------------------------------------------------\n",
       "\"\"\""
      ]
     },
     "execution_count": 130,
     "metadata": {},
     "output_type": "execute_result"
    }
   ],
   "source": [
    "model_ETS = ExponentialSmoothing(df_train['Passengers'], trend=\"add\", seasonal='add', seasonal_periods=12)\n",
    "results_ETS = model_ETS.fit()\n",
    "results_ETS.summary()"
   ]
  },
  {
   "cell_type": "code",
   "execution_count": 131,
   "id": "22359768-c390-4cfb-900c-d31efc3d904c",
   "metadata": {},
   "outputs": [],
   "source": [
    "predictions_ETS = results_ETS.forecast(steps=len(df_test))"
   ]
  },
  {
   "cell_type": "code",
   "execution_count": 132,
   "id": "5197a526-742e-4f6a-8c21-d798dbe6813e",
   "metadata": {},
   "outputs": [
    {
     "name": "stderr",
     "output_type": "stream",
     "text": [
      "C:\\Users\\Hamid.Azizi\\AppData\\Local\\Temp\\1\\ipykernel_11920\\3118464019.py:1: SettingWithCopyWarning: \n",
      "A value is trying to be set on a copy of a slice from a DataFrame.\n",
      "Try using .loc[row_indexer,col_indexer] = value instead\n",
      "\n",
      "See the caveats in the documentation: https://pandas.pydata.org/pandas-docs/stable/user_guide/indexing.html#returning-a-view-versus-a-copy\n",
      "  df_test['Predicted_ETS'] = predictions_ETS\n"
     ]
    }
   ],
   "source": [
    "df_test['Predicted_ETS'] = predictions_ETS"
   ]
  },
  {
   "cell_type": "code",
   "execution_count": 133,
   "id": "91bc9246-9823-417a-bdcb-f67573d7cc06",
   "metadata": {},
   "outputs": [
    {
     "data": {
      "text/html": [
       "<div>\n",
       "<style scoped>\n",
       "    .dataframe tbody tr th:only-of-type {\n",
       "        vertical-align: middle;\n",
       "    }\n",
       "\n",
       "    .dataframe tbody tr th {\n",
       "        vertical-align: top;\n",
       "    }\n",
       "\n",
       "    .dataframe thead th {\n",
       "        text-align: right;\n",
       "    }\n",
       "</style>\n",
       "<table border=\"1\" class=\"dataframe\">\n",
       "  <thead>\n",
       "    <tr style=\"text-align: right;\">\n",
       "      <th></th>\n",
       "      <th>Passengers</th>\n",
       "      <th>Passengers_First_Difference</th>\n",
       "      <th>Passengers_Second_Difference</th>\n",
       "      <th>Passengers_12_Difference</th>\n",
       "      <th>Predicted_ARIMA</th>\n",
       "      <th>Predicted_ETS</th>\n",
       "    </tr>\n",
       "    <tr>\n",
       "      <th>Month</th>\n",
       "      <th></th>\n",
       "      <th></th>\n",
       "      <th></th>\n",
       "      <th></th>\n",
       "      <th></th>\n",
       "      <th></th>\n",
       "    </tr>\n",
       "  </thead>\n",
       "  <tbody>\n",
       "    <tr>\n",
       "      <th>1958-10-01</th>\n",
       "      <td>359</td>\n",
       "      <td>-45.0</td>\n",
       "      <td>56.0</td>\n",
       "      <td>12.0</td>\n",
       "      <td>4.746997e+16</td>\n",
       "      <td>356.110889</td>\n",
       "    </tr>\n",
       "    <tr>\n",
       "      <th>1958-11-01</th>\n",
       "      <td>310</td>\n",
       "      <td>-49.0</td>\n",
       "      <td>-4.0</td>\n",
       "      <td>5.0</td>\n",
       "      <td>5.237402e+16</td>\n",
       "      <td>316.498478</td>\n",
       "    </tr>\n",
       "    <tr>\n",
       "      <th>1958-12-01</th>\n",
       "      <td>337</td>\n",
       "      <td>27.0</td>\n",
       "      <td>76.0</td>\n",
       "      <td>1.0</td>\n",
       "      <td>5.773434e+16</td>\n",
       "      <td>350.781991</td>\n",
       "    </tr>\n",
       "    <tr>\n",
       "      <th>1959-01-01</th>\n",
       "      <td>360</td>\n",
       "      <td>23.0</td>\n",
       "      <td>-4.0</td>\n",
       "      <td>20.0</td>\n",
       "      <td>6.358880e+16</td>\n",
       "      <td>358.714967</td>\n",
       "    </tr>\n",
       "    <tr>\n",
       "      <th>1959-02-01</th>\n",
       "      <td>342</td>\n",
       "      <td>-18.0</td>\n",
       "      <td>-41.0</td>\n",
       "      <td>24.0</td>\n",
       "      <td>6.997800e+16</td>\n",
       "      <td>342.098623</td>\n",
       "    </tr>\n",
       "  </tbody>\n",
       "</table>\n",
       "</div>"
      ],
      "text/plain": [
       "            Passengers  Passengers_First_Difference  \\\n",
       "Month                                                 \n",
       "1958-10-01         359                        -45.0   \n",
       "1958-11-01         310                        -49.0   \n",
       "1958-12-01         337                         27.0   \n",
       "1959-01-01         360                         23.0   \n",
       "1959-02-01         342                        -18.0   \n",
       "\n",
       "            Passengers_Second_Difference  Passengers_12_Difference  \\\n",
       "Month                                                                \n",
       "1958-10-01                          56.0                      12.0   \n",
       "1958-11-01                          -4.0                       5.0   \n",
       "1958-12-01                          76.0                       1.0   \n",
       "1959-01-01                          -4.0                      20.0   \n",
       "1959-02-01                         -41.0                      24.0   \n",
       "\n",
       "            Predicted_ARIMA  Predicted_ETS  \n",
       "Month                                       \n",
       "1958-10-01     4.746997e+16     356.110889  \n",
       "1958-11-01     5.237402e+16     316.498478  \n",
       "1958-12-01     5.773434e+16     350.781991  \n",
       "1959-01-01     6.358880e+16     358.714967  \n",
       "1959-02-01     6.997800e+16     342.098623  "
      ]
     },
     "execution_count": 133,
     "metadata": {},
     "output_type": "execute_result"
    }
   ],
   "source": [
    "df_test.head()"
   ]
  },
  {
   "cell_type": "code",
   "execution_count": 134,
   "id": "a33564cd-4fad-453a-ad98-57c9da83dfc9",
   "metadata": {},
   "outputs": [
    {
     "data": {
      "text/plain": [
       "<Axes: xlabel='Month'>"
      ]
     },
     "execution_count": 134,
     "metadata": {},
     "output_type": "execute_result"
    },
    {
     "data": {
      "image/png": "[encoded data removed]",
      "text/plain": [
       "<Figure size 640x480 with 1 Axes>"
      ]
     },
     "metadata": {},
     "output_type": "display_data"
    }
   ],
   "source": [
    "df_test[['Passengers', 'Predicted_ETS']].plot()"
   ]
  },
  {
   "cell_type": "code",
   "execution_count": 135,
   "id": "bd849a54-3a6d-4c26-8b08-ab68b83e8372",
   "metadata": {},
   "outputs": [
    {
     "data": {
      "text/plain": [
       "706.7939125129695"
      ]
     },
     "execution_count": 135,
     "metadata": {},
     "output_type": "execute_result"
    }
   ],
   "source": [
    "mse_ETS_add = mean_squared_error(df_test['Passengers'], df_test['Predicted_ETS'])\n",
    "mse_ETS_add"
   ]
  },
  {
   "cell_type": "markdown",
   "id": "d997afc5-3e39-468e-a2f8-36bdd39d2534",
   "metadata": {},
   "source": [
    "### Create ETS Model_Multiplicative"
   ]
  },
  {
   "cell_type": "code",
   "execution_count": 136,
   "id": "05218925-21b0-487a-98e3-617f5babe82b",
   "metadata": {},
   "outputs": [
    {
     "name": "stderr",
     "output_type": "stream",
     "text": [
      "C:\\Users\\Hamid.Azizi\\AppData\\Local\\anaconda3\\Lib\\site-packages\\statsmodels\\tsa\\base\\tsa_model.py:473: ValueWarning: No frequency information was provided, so inferred frequency MS will be used.\n",
      "  self._init_dates(dates, freq)\n",
      "C:\\Users\\Hamid.Azizi\\AppData\\Local\\anaconda3\\Lib\\site-packages\\statsmodels\\tsa\\holtwinters\\model.py:83: RuntimeWarning: overflow encountered in matmul\n",
      "  return err.T @ err\n"
     ]
    },
    {
     "data": {
      "text/html": [
       "<table class=\"simpletable\">\n",
       "<caption>ExponentialSmoothing Model Results</caption>\n",
       "<tr>\n",
       "  <th>Dep. Variable:</th>         <td>Passengers</td>      <th>  No. Observations:  </th>        <td>105</td>      \n",
       "</tr>\n",
       "<tr>\n",
       "  <th>Model:</th>            <td>ExponentialSmoothing</td> <th>  SSE                </th>     <td>7021.620</td>    \n",
       "</tr>\n",
       "<tr>\n",
       "  <th>Optimized:</th>                <td>True</td>         <th>  AIC                </th>      <td>473.293</td>    \n",
       "</tr>\n",
       "<tr>\n",
       "  <th>Trend:</th>               <td>Multiplicative</td>    <th>  BIC                </th>      <td>515.756</td>    \n",
       "</tr>\n",
       "<tr>\n",
       "  <th>Seasonal:</th>            <td>Multiplicative</td>    <th>  AICC               </th>      <td>481.246</td>    \n",
       "</tr>\n",
       "<tr>\n",
       "  <th>Seasonal Periods:</th>          <td>12</td>          <th>  Date:              </th> <td>Mon, 18 Mar 2024</td>\n",
       "</tr>\n",
       "<tr>\n",
       "  <th>Box-Cox:</th>                  <td>False</td>        <th>  Time:              </th>     <td>12:23:15</td>    \n",
       "</tr>\n",
       "<tr>\n",
       "  <th>Box-Cox Coeff.:</th>           <td>None</td>         <th>                     </th>         <td> </td>       \n",
       "</tr>\n",
       "</table>\n",
       "<table class=\"simpletable\">\n",
       "<tr>\n",
       "           <td></td>                  <th>coeff</th>                <th>code</th>               <th>optimized</th>     \n",
       "</tr>\n",
       "<tr>\n",
       "  <th>smoothing_level</th>    <td>           0.8126533</td> <td>               alpha</td> <td>                True</td>\n",
       "</tr>\n",
       "<tr>\n",
       "  <th>smoothing_trend</th>    <td>          7.5648e-05</td> <td>                beta</td> <td>                True</td>\n",
       "</tr>\n",
       "<tr>\n",
       "  <th>smoothing_seasonal</th> <td>          5.8745e-06</td> <td>               gamma</td> <td>                True</td>\n",
       "</tr>\n",
       "<tr>\n",
       "  <th>initial_level</th>      <td>           112.74612</td> <td>                 l.0</td> <td>                True</td>\n",
       "</tr>\n",
       "<tr>\n",
       "  <th>initial_trend</th>      <td>           1.0087092</td> <td>                 b.0</td> <td>                True</td>\n",
       "</tr>\n",
       "<tr>\n",
       "  <th>initial_seasons.0</th>  <td>           1.0328284</td> <td>                 s.0</td> <td>                True</td>\n",
       "</tr>\n",
       "<tr>\n",
       "  <th>initial_seasons.1</th>  <td>           0.9914946</td> <td>                 s.1</td> <td>                True</td>\n",
       "</tr>\n",
       "<tr>\n",
       "  <th>initial_seasons.2</th>  <td>           1.1403326</td> <td>                 s.2</td> <td>                True</td>\n",
       "</tr>\n",
       "<tr>\n",
       "  <th>initial_seasons.3</th>  <td>           1.1008612</td> <td>                 s.3</td> <td>                True</td>\n",
       "</tr>\n",
       "<tr>\n",
       "  <th>initial_seasons.4</th>  <td>           1.1099623</td> <td>                 s.4</td> <td>                True</td>\n",
       "</tr>\n",
       "<tr>\n",
       "  <th>initial_seasons.5</th>  <td>           1.2794404</td> <td>                 s.5</td> <td>                True</td>\n",
       "</tr>\n",
       "<tr>\n",
       "  <th>initial_seasons.6</th>  <td>           1.4160990</td> <td>                 s.6</td> <td>                True</td>\n",
       "</tr>\n",
       "<tr>\n",
       "  <th>initial_seasons.7</th>  <td>           1.4047964</td> <td>                 s.7</td> <td>                True</td>\n",
       "</tr>\n",
       "<tr>\n",
       "  <th>initial_seasons.8</th>  <td>           1.1991711</td> <td>                 s.8</td> <td>                True</td>\n",
       "</tr>\n",
       "<tr>\n",
       "  <th>initial_seasons.9</th>  <td>           1.0414624</td> <td>                 s.9</td> <td>                True</td>\n",
       "</tr>\n",
       "<tr>\n",
       "  <th>initial_seasons.10</th> <td>           0.9070947</td> <td>                s.10</td> <td>                True</td>\n",
       "</tr>\n",
       "<tr>\n",
       "  <th>initial_seasons.11</th> <td>           1.0175723</td> <td>                s.11</td> <td>                True</td>\n",
       "</tr>\n",
       "</table>"
      ],
      "text/latex": [
       "\\begin{center}\n",
       "\\begin{tabular}{lclc}\n",
       "\\toprule\n",
       "\\textbf{Dep. Variable:}      &      Passengers      & \\textbf{  No. Observations:  } &         105           \\\\\n",
       "\\textbf{Model:}              & ExponentialSmoothing & \\textbf{  SSE                } &       7021.620        \\\\\n",
       "\\textbf{Optimized:}          &         True         & \\textbf{  AIC                } &       473.293         \\\\\n",
       "\\textbf{Trend:}              &    Multiplicative    & \\textbf{  BIC                } &       515.756         \\\\\n",
       "\\textbf{Seasonal:}           &    Multiplicative    & \\textbf{  AICC               } &       481.246         \\\\\n",
       "\\textbf{Seasonal Periods:}   &          12          & \\textbf{  Date:              } &   Mon, 18 Mar 2024    \\\\\n",
       "\\textbf{Box-Cox:}            &        False         & \\textbf{  Time:              } &       12:23:15        \\\\\n",
       "\\textbf{Box-Cox Coeff.:}     &         None         & \\textbf{                     } &                       \\\\\n",
       "\\bottomrule\n",
       "\\end{tabular}\n",
       "\\begin{tabular}{lccc}\n",
       "                             &    \\textbf{coeff}    &    \\textbf{code}     &  \\textbf{optimized}   \\\\\n",
       "\\midrule\n",
       "\\textbf{smoothing\\_level}    &            0.8126533 &                alpha &                 True  \\\\\n",
       "\\textbf{smoothing\\_trend}    &           7.5648e-05 &                 beta &                 True  \\\\\n",
       "\\textbf{smoothing\\_seasonal} &           5.8745e-06 &                gamma &                 True  \\\\\n",
       "\\textbf{initial\\_level}      &            112.74612 &                  l.0 &                 True  \\\\\n",
       "\\textbf{initial\\_trend}      &            1.0087092 &                  b.0 &                 True  \\\\\n",
       "\\textbf{initial\\_seasons.0}  &            1.0328284 &                  s.0 &                 True  \\\\\n",
       "\\textbf{initial\\_seasons.1}  &            0.9914946 &                  s.1 &                 True  \\\\\n",
       "\\textbf{initial\\_seasons.2}  &            1.1403326 &                  s.2 &                 True  \\\\\n",
       "\\textbf{initial\\_seasons.3}  &            1.1008612 &                  s.3 &                 True  \\\\\n",
       "\\textbf{initial\\_seasons.4}  &            1.1099623 &                  s.4 &                 True  \\\\\n",
       "\\textbf{initial\\_seasons.5}  &            1.2794404 &                  s.5 &                 True  \\\\\n",
       "\\textbf{initial\\_seasons.6}  &            1.4160990 &                  s.6 &                 True  \\\\\n",
       "\\textbf{initial\\_seasons.7}  &            1.4047964 &                  s.7 &                 True  \\\\\n",
       "\\textbf{initial\\_seasons.8}  &            1.1991711 &                  s.8 &                 True  \\\\\n",
       "\\textbf{initial\\_seasons.9}  &            1.0414624 &                  s.9 &                 True  \\\\\n",
       "\\textbf{initial\\_seasons.10} &            0.9070947 &                 s.10 &                 True  \\\\\n",
       "\\textbf{initial\\_seasons.11} &            1.0175723 &                 s.11 &                 True  \\\\\n",
       "\\bottomrule\n",
       "\\end{tabular}\n",
       "%\\caption{ExponentialSmoothing Model Results}\n",
       "\\end{center}"
      ],
      "text/plain": [
       "<class 'statsmodels.iolib.summary.Summary'>\n",
       "\"\"\"\n",
       "                       ExponentialSmoothing Model Results                       \n",
       "================================================================================\n",
       "Dep. Variable:               Passengers   No. Observations:                  105\n",
       "Model:             ExponentialSmoothing   SSE                           7021.620\n",
       "Optimized:                         True   AIC                            473.293\n",
       "Trend:                   Multiplicative   BIC                            515.756\n",
       "Seasonal:                Multiplicative   AICC                           481.246\n",
       "Seasonal Periods:                    12   Date:                 Mon, 18 Mar 2024\n",
       "Box-Cox:                          False   Time:                         12:23:15\n",
       "Box-Cox Coeff.:                    None                                         \n",
       "=================================================================================\n",
       "                          coeff                 code              optimized      \n",
       "---------------------------------------------------------------------------------\n",
       "smoothing_level               0.8126533                alpha                 True\n",
       "smoothing_trend              7.5648e-05                 beta                 True\n",
       "smoothing_seasonal           5.8745e-06                gamma                 True\n",
       "initial_level                 112.74612                  l.0                 True\n",
       "initial_trend                 1.0087092                  b.0                 True\n",
       "initial_seasons.0             1.0328284                  s.0                 True\n",
       "initial_seasons.1             0.9914946                  s.1                 True\n",
       "initial_seasons.2             1.1403326                  s.2                 True\n",
       "initial_seasons.3             1.1008612                  s.3                 True\n",
       "initial_seasons.4             1.1099623                  s.4                 True\n",
       "initial_seasons.5             1.2794404                  s.5                 True\n",
       "initial_seasons.6             1.4160990                  s.6                 True\n",
       "initial_seasons.7             1.4047964                  s.7                 True\n",
       "initial_seasons.8             1.1991711                  s.8                 True\n",
       "initial_seasons.9             1.0414624                  s.9                 True\n",
       "initial_seasons.10            0.9070947                 s.10                 True\n",
       "initial_seasons.11            1.0175723                 s.11                 True\n",
       "---------------------------------------------------------------------------------\n",
       "\"\"\""
      ]
     },
     "execution_count": 136,
     "metadata": {},
     "output_type": "execute_result"
    }
   ],
   "source": [
    "model_ETS_mul = ExponentialSmoothing(df_train['Passengers'], trend=\"mul\", seasonal='mul', seasonal_periods=12)\n",
    "results_ETS_mul = model_ETS_mul.fit()\n",
    "results_ETS_mul.summary()"
   ]
  },
  {
   "cell_type": "code",
   "execution_count": 137,
   "id": "ee486c8e-1be9-4da3-a65b-662e6d0e650c",
   "metadata": {},
   "outputs": [
    {
     "name": "stderr",
     "output_type": "stream",
     "text": [
      "C:\\Users\\Hamid.Azizi\\AppData\\Local\\Temp\\1\\ipykernel_11920\\1945439469.py:1: SettingWithCopyWarning: \n",
      "A value is trying to be set on a copy of a slice from a DataFrame.\n",
      "Try using .loc[row_indexer,col_indexer] = value instead\n",
      "\n",
      "See the caveats in the documentation: https://pandas.pydata.org/pandas-docs/stable/user_guide/indexing.html#returning-a-view-versus-a-copy\n",
      "  df_test['Predicted_ETS_mul'] = results_ETS_mul.forecast(steps=len(df_test))\n"
     ]
    }
   ],
   "source": [
    "df_test['Predicted_ETS_mul'] = results_ETS_mul.forecast(steps=len(df_test))"
   ]
  },
  {
   "cell_type": "code",
   "execution_count": 138,
   "id": "46e1cc4d-66dd-46f2-ae1a-7fd3ddc3a1c4",
   "metadata": {},
   "outputs": [
    {
     "data": {
      "text/html": [
       "<div>\n",
       "<style scoped>\n",
       "    .dataframe tbody tr th:only-of-type {\n",
       "        vertical-align: middle;\n",
       "    }\n",
       "\n",
       "    .dataframe tbody tr th {\n",
       "        vertical-align: top;\n",
       "    }\n",
       "\n",
       "    .dataframe thead th {\n",
       "        text-align: right;\n",
       "    }\n",
       "</style>\n",
       "<table border=\"1\" class=\"dataframe\">\n",
       "  <thead>\n",
       "    <tr style=\"text-align: right;\">\n",
       "      <th></th>\n",
       "      <th>Passengers</th>\n",
       "      <th>Passengers_First_Difference</th>\n",
       "      <th>Passengers_Second_Difference</th>\n",
       "      <th>Passengers_12_Difference</th>\n",
       "      <th>Predicted_ARIMA</th>\n",
       "      <th>Predicted_ETS</th>\n",
       "      <th>Predicted_ETS_mul</th>\n",
       "    </tr>\n",
       "    <tr>\n",
       "      <th>Month</th>\n",
       "      <th></th>\n",
       "      <th></th>\n",
       "      <th></th>\n",
       "      <th></th>\n",
       "      <th></th>\n",
       "      <th></th>\n",
       "      <th></th>\n",
       "    </tr>\n",
       "  </thead>\n",
       "  <tbody>\n",
       "    <tr>\n",
       "      <th>1958-10-01</th>\n",
       "      <td>359</td>\n",
       "      <td>-45.0</td>\n",
       "      <td>56.0</td>\n",
       "      <td>12.0</td>\n",
       "      <td>4.746997e+16</td>\n",
       "      <td>356.110889</td>\n",
       "      <td>358.589048</td>\n",
       "    </tr>\n",
       "    <tr>\n",
       "      <th>1958-11-01</th>\n",
       "      <td>310</td>\n",
       "      <td>-49.0</td>\n",
       "      <td>-4.0</td>\n",
       "      <td>5.0</td>\n",
       "      <td>5.237402e+16</td>\n",
       "      <td>316.498478</td>\n",
       "      <td>315.050294</td>\n",
       "    </tr>\n",
       "    <tr>\n",
       "      <th>1958-12-01</th>\n",
       "      <td>337</td>\n",
       "      <td>27.0</td>\n",
       "      <td>76.0</td>\n",
       "      <td>1.0</td>\n",
       "      <td>5.773434e+16</td>\n",
       "      <td>350.781991</td>\n",
       "      <td>356.505842</td>\n",
       "    </tr>\n",
       "    <tr>\n",
       "      <th>1959-01-01</th>\n",
       "      <td>360</td>\n",
       "      <td>23.0</td>\n",
       "      <td>-4.0</td>\n",
       "      <td>20.0</td>\n",
       "      <td>6.358880e+16</td>\n",
       "      <td>358.714967</td>\n",
       "      <td>365.008798</td>\n",
       "    </tr>\n",
       "    <tr>\n",
       "      <th>1959-02-01</th>\n",
       "      <td>342</td>\n",
       "      <td>-18.0</td>\n",
       "      <td>-41.0</td>\n",
       "      <td>24.0</td>\n",
       "      <td>6.997800e+16</td>\n",
       "      <td>342.098623</td>\n",
       "      <td>353.459808</td>\n",
       "    </tr>\n",
       "  </tbody>\n",
       "</table>\n",
       "</div>"
      ],
      "text/plain": [
       "            Passengers  Passengers_First_Difference  \\\n",
       "Month                                                 \n",
       "1958-10-01         359                        -45.0   \n",
       "1958-11-01         310                        -49.0   \n",
       "1958-12-01         337                         27.0   \n",
       "1959-01-01         360                         23.0   \n",
       "1959-02-01         342                        -18.0   \n",
       "\n",
       "            Passengers_Second_Difference  Passengers_12_Difference  \\\n",
       "Month                                                                \n",
       "1958-10-01                          56.0                      12.0   \n",
       "1958-11-01                          -4.0                       5.0   \n",
       "1958-12-01                          76.0                       1.0   \n",
       "1959-01-01                          -4.0                      20.0   \n",
       "1959-02-01                         -41.0                      24.0   \n",
       "\n",
       "            Predicted_ARIMA  Predicted_ETS  Predicted_ETS_mul  \n",
       "Month                                                          \n",
       "1958-10-01     4.746997e+16     356.110889         358.589048  \n",
       "1958-11-01     5.237402e+16     316.498478         315.050294  \n",
       "1958-12-01     5.773434e+16     350.781991         356.505842  \n",
       "1959-01-01     6.358880e+16     358.714967         365.008798  \n",
       "1959-02-01     6.997800e+16     342.098623         353.459808  "
      ]
     },
     "execution_count": 138,
     "metadata": {},
     "output_type": "execute_result"
    }
   ],
   "source": [
    "df_test.head()"
   ]
  },
  {
   "cell_type": "code",
   "execution_count": 139,
   "id": "a3479bb4-b111-4f7a-8f3d-445b803233f4",
   "metadata": {},
   "outputs": [
    {
     "data": {
      "text/plain": [
       "<Axes: xlabel='Month'>"
      ]
     },
     "execution_count": 139,
     "metadata": {},
     "output_type": "execute_result"
    },
    {
     "data": {
      "image/png": "[encoded data removed]",
      "text/plain": [
       "<Figure size 640x480 with 1 Axes>"
      ]
     },
     "metadata": {},
     "output_type": "display_data"
    }
   ],
   "source": [
    "df_test[['Passengers', 'Predicted_ETS_mul']].plot()"
   ]
  },
  {
   "cell_type": "markdown",
   "id": "9b6a286f-3ac3-48db-b808-3fe6eaf614f4",
   "metadata": {},
   "source": [
    "### Evaluate Forecast Accuracy_ETS Model_Multiplicatiove"
   ]
  },
  {
   "cell_type": "code",
   "execution_count": 140,
   "id": "d8bfc97b-7382-4184-a251-e26ff93d3b69",
   "metadata": {},
   "outputs": [
    {
     "data": {
      "text/plain": [
       "264.37363900709454"
      ]
     },
     "execution_count": 140,
     "metadata": {},
     "output_type": "execute_result"
    }
   ],
   "source": [
    "mse_ETS_mul = mean_squared_error(df_test['Passengers'], df_test['Predicted_ETS_mul'])\n",
    "mse_ETS_mul"
   ]
  },
  {
   "cell_type": "markdown",
   "id": "3c316f96-0e85-43db-a204-b3925c853cfa",
   "metadata": {},
   "source": [
    "### Accuracy of ETS_mul model is higher than ETS_add and ARIMA models \n",
    "### For seasonal data forecasting, ARIMA is not working. ETS or SARIMA are better options."
   ]
  },
  {
   "cell_type": "code",
   "execution_count": null,
   "id": "02ff7a06",
   "metadata": {},
   "outputs": [],
   "source": []
  }
 ],
 "metadata": {
  "kernelspec": {
   "display_name": "Python 3 (ipykernel)",
   "language": "python",
   "name": "python3"
  },
  "language_info": {
   "codemirror_mode": {
    "name": "ipython",
    "version": 3
   },
   "file_extension": ".py",
   "mimetype": "text/x-python",
   "name": "python",
   "nbconvert_exporter": "python",
   "pygments_lexer": "ipython3",
   "version": "3.11.5"
  }
 },
 "nbformat": 4,
 "nbformat_minor": 5
}
